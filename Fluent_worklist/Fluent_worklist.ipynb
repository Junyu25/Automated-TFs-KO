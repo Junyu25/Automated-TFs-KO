{
 "cells": [
  {
   "cell_type": "code",
   "execution_count": 2,
   "id": "3ad38bd7-effa-4396-8ead-25ac7a7705bc",
   "metadata": {},
   "outputs": [
    {
     "name": "stdin",
     "output_type": "stream",
     "text": [
      "Enter Number of genes (<=32):    32\n"
     ]
    },
    {
     "name": "stdout",
     "output_type": "stream",
     "text": [
      "\n",
      " File Written:   Worklist_20220712_171927.csv \n",
      "\n"
     ]
    }
   ],
   "source": [
    "import pandas as pd\n",
    "from string import ascii_uppercase\n",
    "import sys\n",
    "import time\n",
    "\n",
    "def Create_worklist():\n",
    "    \n",
    "    Well96_byRow, Well96_byCol = Wellplate96_PCR()\n",
    "    Worklist = pd.DataFrame()\n",
    "    \n",
    "    Number_of_genes = int(input ('Enter Number of genes (<=32):   '))\n",
    "    if Number_of_genes > 32 or Number_of_genes < 1:\n",
    "        sys.exit('Wrong Input')\n",
    "        \n",
    "    Primers = Number_of_genes * 2\n",
    "    counter = 0\n",
    "    ind = 0\n",
    "    source_Well_list = []\n",
    "    Dest_wells_list = []\n",
    "    \n",
    "    for i in range(len(Well96_byRow)):\n",
    "        if Primers == i:\n",
    "            break\n",
    "        if i % 2 == 1:\n",
    "            continue\n",
    "\n",
    "        for j in range(3):\n",
    "            source_Well_list.append(Well96_byRow[i])\n",
    "        for j in range(3):\n",
    "            source_Well_list.append(Well96_byRow[i+1])\n",
    "\n",
    "        Dest_wells = Well96_byCol[ind:ind+3]\n",
    "        Dest_wells_list.extend(Dest_wells)\n",
    "        Dest_wells_list.extend(Dest_wells)\n",
    "        ind = ind + 3\n",
    "    \n",
    "    Worklist['Source Well'] = source_Well_list\n",
    "    Worklist['Transfer Volume']  = 2500\n",
    "    Worklist['Destination Well'] = Dest_wells_list\n",
    "    \n",
    "    timestr = time.strftime(\"%Y%m%d_%H%M%S\")\n",
    "    Filename  = 'Worklist_' + timestr+'.csv'\n",
    "    print('\\n File Written:  ', Filename, '\\n')\n",
    "    Worklist.to_csv(Filename, index = False)\n",
    "\n",
    "def Wellplate96_PCR():\n",
    "\n",
    "    Wellplate96_byRow = []\n",
    "    Wellplate96_byCol = []\n",
    "    for letter in ascii_uppercase:\n",
    "        for j in range(1,13):            \n",
    "            dest = letter+str(j)\n",
    "            Wellplate96_byRow.append(dest)\n",
    "        if letter == 'H':\n",
    "            break\n",
    "    for j in range(1,13):   \n",
    "        for letter in ascii_uppercase:\n",
    "            dest = letter+str(j)\n",
    "            Wellplate96_byCol.append(dest)\n",
    "            if letter == 'H':\n",
    "                break     \n",
    "    \n",
    "    return Wellplate96_byRow, Wellplate96_byCol\n",
    "\n",
    "if __name__ == '__main__':\n",
    "    Create_worklist()"
   ]
  },
  {
   "cell_type": "code",
   "execution_count": null,
   "id": "21fe6f3f-5f94-464e-af87-37d7091f2e6b",
   "metadata": {},
   "outputs": [],
   "source": []
  }
 ],
 "metadata": {
  "kernelspec": {
   "display_name": "Python 3 (ipykernel)",
   "language": "python",
   "name": "python3"
  },
  "language_info": {
   "codemirror_mode": {
    "name": "ipython",
    "version": 3
   },
   "file_extension": ".py",
   "mimetype": "text/x-python",
   "name": "python",
   "nbconvert_exporter": "python",
   "pygments_lexer": "ipython3",
   "version": "3.9.5"
  }
 },
 "nbformat": 4,
 "nbformat_minor": 5
}
